{
 "cells": [
  {
   "cell_type": "markdown",
   "metadata": {},
   "source": [
    "# Fetch Articles Abstracts from Scopus Search API\n",
    "API KEY from Scopus, get it from https://dev.elsevier.com"
   ]
  },
  {
   "cell_type": "code",
   "execution_count": null,
   "metadata": {},
   "outputs": [],
   "source": [
    "API_KEY = \"\" #Private API KEY"
   ]
  },
  {
   "cell_type": "code",
   "execution_count": null,
   "metadata": {},
   "outputs": [],
   "source": [
    "#max number of results to fetch each time depending of Service Level in Scopus API \n",
    "COUNT=5"
   ]
  },
  {
   "cell_type": "markdown",
   "metadata": {},
   "source": [
    "Your query in here"
   ]
  },
  {
   "cell_type": "code",
   "execution_count": null,
   "metadata": {},
   "outputs": [],
   "source": [
    "QUERY=\"MACHINE LEARNING FORECAST DEMAND \""
   ]
  },
  {
   "cell_type": "code",
   "execution_count": 2,
   "metadata": {},
   "outputs": [],
   "source": [
    "import requests\n",
    "import json\n",
    "import pandas as pd"
   ]
  },
  {
   "cell_type": "markdown",
   "metadata": {},
   "source": [
    "### Search request to Scopus API"
   ]
  },
  {
   "cell_type": "code",
   "execution_count": null,
   "metadata": {},
   "outputs": [],
   "source": [
    "def run_scopus_search(start):\n",
    "    resp = requests.get(\"http://api.elsevier.com/content/search/scopus?start=%s&count=%s&query=%s\" % (str(start),str(COUNT),QUERY),\n",
    "                        headers={'Accept':'application/json','X-ELS-APIKey': API_KEY})\n",
    "    print(\"fetching Scopus IDs... %d \" % start)\n",
    "    results= json.loads(resp.text.encode('utf-8'))\n",
    "    return results"
   ]
  },
  {
   "cell_type": "markdown",
   "metadata": {},
   "source": [
    "### Return scopus IDs from results "
   ]
  },
  {
   "cell_type": "code",
   "execution_count": null,
   "metadata": {},
   "outputs": [],
   "source": [
    "def get_scopus_ids(results):\n",
    "    return [[str(r['dc:identifier'])] for r in results['search-results'][\"entry\"]]"
   ]
  },
  {
   "cell_type": "markdown",
   "metadata": {},
   "source": [
    "### Return total numbers of articles found "
   ]
  },
  {
   "cell_type": "code",
   "execution_count": null,
   "metadata": {},
   "outputs": [],
   "source": [
    "def get_totalResults(results):\n",
    "    return int(results['search-results']['opensearch:totalResults'])"
   ]
  },
  {
   "cell_type": "markdown",
   "metadata": {},
   "source": [
    "### Return basic info about article"
   ]
  },
  {
   "cell_type": "code",
   "execution_count": null,
   "metadata": {},
   "outputs": [],
   "source": [
    "def get_scopus_info(SCOPUS_ID):\n",
    "    url = (\"https://api.elsevier.com/content/abstract/scopus_id/\"+ SCOPUS_ID + \"?view=FULL\")\n",
    "    resp = requests.get(url,headers={'Accept':'application/json','X-ELS-APIKey': API_KEY})\n",
    "\n",
    "    return json.loads(resp.text.encode('utf-8'))"
   ]
  },
  {
   "cell_type": "markdown",
   "metadata": {},
   "source": [
    "### Return abstract article"
   ]
  },
  {
   "cell_type": "code",
   "execution_count": null,
   "metadata": {},
   "outputs": [],
   "source": [
    "def get_scopus_text(SCOPUS_ID):\n",
    "    url = (\"https://api.elsevier.com/content/article/scopus_id/\" + SCOPUS_ID + \"?view=FULL\")\n",
    "    resp = requests.get(url,headers={'Accept':'application/json','X-ELS-APIKey': API_KEY})\n",
    "    return json.loads(resp.text.encode('utf-8'))"
   ]
  },
  {
   "cell_type": "markdown",
   "metadata": {},
   "source": [
    "because fetching results could take hours we store results in base file in case the process is interrupt, you can start it again without fetch again the abstracts"
   ]
  },
  {
   "cell_type": "code",
   "execution_count": null,
   "metadata": {},
   "outputs": [],
   "source": [
    "from pathlib import Path\n",
    "number_articles_allready_load=0\n",
    "base = Path(\"./data/scopus_search_base.csv\")\n",
    "base_exist=False\n",
    "new_base_exist=False\n",
    "if base.is_file():\n",
    "    article_set_readed=pd.read_csv(\"./data/scopus_search_base.csv\")\n",
    "    base_exist=True\n",
    "    number_articles_allready_load=article_set_readed.shape[0]\n",
    "    print('base exists ,%d articles '% number_articles_allready_load) \n",
    "new_base_exist=base_exist"
   ]
  },
  {
   "cell_type": "markdown",
   "metadata": {},
   "source": [
    "### Main\n",
    "\n",
    "run scopus search, return top 200 and number of total articles\n",
    "loop by next 200 until reach total articles\n",
    "\n",
    "write dataset to csv file"
   ]
  },
  {
   "cell_type": "code",
   "execution_count": null,
   "metadata": {},
   "outputs": [],
   "source": [
    "start=0\n",
    "article_data=[]\n",
    "\n",
    "n=0\n",
    "\n",
    "results=run_scopus_search(start)\n",
    "totalResults=get_totalResults(results)\n",
    "\n",
    "scopus_ids=get_scopus_ids(results)\n",
    "if base_exist==True:\n",
    "    scopus_idsdf=pd.DataFrame(scopus_ids)\n",
    "    scopus_ids=scopus_idsdf[~scopus_idsdf.isin(article_set_readed['Scopus_ID'])].dropna(how='all').values\n",
    "\n",
    "n_ids_fetched =len(scopus_ids)\n",
    "print(\"number of scopus ids fetched : %d de %d\" % (n_ids_fetched,totalResults))\n",
    "\n",
    "while (n<totalResults-number_articles_allready_load):\n",
    "    nn=0\n",
    "    for scopus_id in scopus_ids:\n",
    "\n",
    "        results_info = get_scopus_info(scopus_id[0])\n",
    "        results_text = get_scopus_text(scopus_id[0])\n",
    "        try:\n",
    "            title=results_info['abstracts-retrieval-response']['coredata']['dc:title']\n",
    "            pubDate=results_info['abstracts-retrieval-response']['coredata']['prism:coverDate']\n",
    "            try:\n",
    "                abstract=str(results_text['full-text-retrieval-response']['coredata']['dc:description'])\n",
    "                abstract=abstract.replace('Abstract\\n               \\n                  ','')\n",
    "            except:\n",
    "                abstract='(not available)'\n",
    "            print(\"fetching %d / %d...\" % (n+1,totalResults)) \n",
    "            n=n+1\n",
    "            nn=nn+1\n",
    "            author=[[str(row['ce:indexed-name'])] for row in results_info['abstracts-retrieval-response']['coredata']['dc:creator']['author']]\n",
    "            article_data.append({'Scopus_ID' : scopus_id[0],'title':title,'pubDate':pubDate,'abstract': abstract,'author': author[0][0]})\n",
    "        except:\n",
    "            pass\n",
    "    if nn>0:\n",
    "        article_set=pd.DataFrame(article_data)\n",
    "        article_data=[]\n",
    "        if (new_base_exist==False):\n",
    "            print('creating base')\n",
    "            article_set.to_csv(\"./data/scopus_search_base.csv\",index=False)\n",
    "            new_base_exist=True\n",
    "        else:\n",
    "            print('append to base')\n",
    "            article_set.to_csv(\"./data/scopus_search_base.csv\",mode=\"a\",header=False,index=False)\n",
    "           \n",
    "    start=start+n_ids_fetched\n",
    "    results=run_scopus_search(start)\n",
    "    scopus_ids=get_scopus_ids(results)\n",
    "    n_ids_fetched =len(scopus_ids)\n",
    "    if base_exist==True:\n",
    "        scopus_idsdf=pd.DataFrame(scopus_ids)\n",
    "        scopus_ids=scopus_idsdf[~scopus_idsdf.isin(article_set_readed['Scopus_ID'])].dropna(how='all').values\n",
    "        print('novos artigos= %d %d' % (len(scopus_ids),article_set_readed.shape[0]))\n",
    "    print(\"number of scopus ids fetched : %d de %d\" % (n_ids_fetched+start,totalResults))\n",
    "print(\"Finish!\")"
   ]
  },
  {
   "cell_type": "code",
   "execution_count": 3,
   "metadata": {},
   "outputs": [
    {
     "name": "stdout",
     "output_type": "stream",
     "text": [
      "<bound method DataFrame.info of                   Scopus_ID  \\\n",
      "0     SCOPUS_ID:85035128299   \n",
      "1     SCOPUS_ID:85038847134   \n",
      "2     SCOPUS_ID:85036467319   \n",
      "3     SCOPUS_ID:85038816447   \n",
      "4     SCOPUS_ID:85034053217   \n",
      "...                     ...   \n",
      "1253  SCOPUS_ID:84978641606   \n",
      "1254  SCOPUS_ID:84978903927   \n",
      "1255  SCOPUS_ID:84961115864   \n",
      "1256  SCOPUS_ID:84976330384   \n",
      "1257  SCOPUS_ID:84929121341   \n",
      "\n",
      "                                               abstract           author  \\\n",
      "0     This study develops a stochastic approach to t...           Lee M.   \n",
      "1                                       (not available)       Sevlian R.   \n",
      "2     Cloud computing has drastically transformed th...         Kumar J.   \n",
      "3     Online reviews have been extensively studied i...            Ma Y.   \n",
      "4     In this paper a new hybrid method combining va...          Naik J.   \n",
      "...                                                 ...              ...   \n",
      "1253                                    (not available)       Pedraza L.   \n",
      "1254                                    (not available)       Bogaraj T.   \n",
      "1255  The progressive application of Information and...       Gamarra C.   \n",
      "1256                                    (not available)        Afilal M.   \n",
      "1257                                    (not available)  Shamshirband S.   \n",
      "\n",
      "         pubDate                                              title  \n",
      "0     2018-06-01  Modeling and forecasting hotel room demand bas...  \n",
      "1     2018-06-01  A scaling law for short term load forecasting ...  \n",
      "2     2018-04-01  Workload prediction in cloud using artificial ...  \n",
      "3     2018-04-01  Effects of user-provided photos on hotel revie...  \n",
      "4     2018-04-01  Short term wind power forecasting using hybrid...  \n",
      "...          ...                                                ...  \n",
      "1253  2016-07-01  Evaluation of nonlinear forecasts for radioele...  \n",
      "1254  2016-07-01  Intelligent energy management control for inde...  \n",
      "1255  2016-07-01  A knowledge discovery in databases approach fo...  \n",
      "1256  2016-07-01  Forecasting the Emergency Department Patients ...  \n",
      "1257  2016-07-01  A hybrid SVM-FFA method for prediction of mont...  \n",
      "\n",
      "[1258 rows x 5 columns]>\n",
      "<bound method NDFrame.head of                   Scopus_ID  \\\n",
      "0     SCOPUS_ID:85035128299   \n",
      "1     SCOPUS_ID:85038847134   \n",
      "2     SCOPUS_ID:85036467319   \n",
      "3     SCOPUS_ID:85038816447   \n",
      "4     SCOPUS_ID:85034053217   \n",
      "...                     ...   \n",
      "1253  SCOPUS_ID:84978641606   \n",
      "1254  SCOPUS_ID:84978903927   \n",
      "1255  SCOPUS_ID:84961115864   \n",
      "1256  SCOPUS_ID:84976330384   \n",
      "1257  SCOPUS_ID:84929121341   \n",
      "\n",
      "                                               abstract           author  \\\n",
      "0     This study develops a stochastic approach to t...           Lee M.   \n",
      "1                                       (not available)       Sevlian R.   \n",
      "2     Cloud computing has drastically transformed th...         Kumar J.   \n",
      "3     Online reviews have been extensively studied i...            Ma Y.   \n",
      "4     In this paper a new hybrid method combining va...          Naik J.   \n",
      "...                                                 ...              ...   \n",
      "1253                                    (not available)       Pedraza L.   \n",
      "1254                                    (not available)       Bogaraj T.   \n",
      "1255  The progressive application of Information and...       Gamarra C.   \n",
      "1256                                    (not available)        Afilal M.   \n",
      "1257                                    (not available)  Shamshirband S.   \n",
      "\n",
      "         pubDate                                              title  \n",
      "0     2018-06-01  Modeling and forecasting hotel room demand bas...  \n",
      "1     2018-06-01  A scaling law for short term load forecasting ...  \n",
      "2     2018-04-01  Workload prediction in cloud using artificial ...  \n",
      "3     2018-04-01  Effects of user-provided photos on hotel revie...  \n",
      "4     2018-04-01  Short term wind power forecasting using hybrid...  \n",
      "...          ...                                                ...  \n",
      "1253  2016-07-01  Evaluation of nonlinear forecasts for radioele...  \n",
      "1254  2016-07-01  Intelligent energy management control for inde...  \n",
      "1255  2016-07-01  A knowledge discovery in databases approach fo...  \n",
      "1256  2016-07-01  Forecasting the Emergency Department Patients ...  \n",
      "1257  2016-07-01  A hybrid SVM-FFA method for prediction of mont...  \n",
      "\n",
      "[1258 rows x 5 columns]>\n"
     ]
    }
   ],
   "source": [
    "article_set=pd.read_csv(\"./data/scopus_search_base.csv\") \n",
    "print(article_set.info)\n",
    "print(article_set.head)"
   ]
  },
  {
   "cell_type": "code",
   "execution_count": 4,
   "metadata": {},
   "outputs": [
    {
     "data": {
      "text/html": [
       "<div>\n",
       "<style scoped>\n",
       "    .dataframe tbody tr th:only-of-type {\n",
       "        vertical-align: middle;\n",
       "    }\n",
       "\n",
       "    .dataframe tbody tr th {\n",
       "        vertical-align: top;\n",
       "    }\n",
       "\n",
       "    .dataframe thead th {\n",
       "        text-align: right;\n",
       "    }\n",
       "</style>\n",
       "<table border=\"1\" class=\"dataframe\">\n",
       "  <thead>\n",
       "    <tr style=\"text-align: right;\">\n",
       "      <th></th>\n",
       "      <th>Scopus_ID</th>\n",
       "      <th>abstract</th>\n",
       "      <th>author</th>\n",
       "      <th>pubDate</th>\n",
       "      <th>title</th>\n",
       "    </tr>\n",
       "  </thead>\n",
       "  <tbody>\n",
       "    <tr>\n",
       "      <th>0</th>\n",
       "      <td>SCOPUS_ID:85035128299</td>\n",
       "      <td>This study develops a stochastic approach to t...</td>\n",
       "      <td>Lee M.</td>\n",
       "      <td>2018-06-01</td>\n",
       "      <td>Modeling and forecasting hotel room demand bas...</td>\n",
       "    </tr>\n",
       "    <tr>\n",
       "      <th>1</th>\n",
       "      <td>SCOPUS_ID:85038847134</td>\n",
       "      <td>(not available)</td>\n",
       "      <td>Sevlian R.</td>\n",
       "      <td>2018-06-01</td>\n",
       "      <td>A scaling law for short term load forecasting ...</td>\n",
       "    </tr>\n",
       "    <tr>\n",
       "      <th>2</th>\n",
       "      <td>SCOPUS_ID:85036467319</td>\n",
       "      <td>Cloud computing has drastically transformed th...</td>\n",
       "      <td>Kumar J.</td>\n",
       "      <td>2018-04-01</td>\n",
       "      <td>Workload prediction in cloud using artificial ...</td>\n",
       "    </tr>\n",
       "    <tr>\n",
       "      <th>3</th>\n",
       "      <td>SCOPUS_ID:85038816447</td>\n",
       "      <td>Online reviews have been extensively studied i...</td>\n",
       "      <td>Ma Y.</td>\n",
       "      <td>2018-04-01</td>\n",
       "      <td>Effects of user-provided photos on hotel revie...</td>\n",
       "    </tr>\n",
       "    <tr>\n",
       "      <th>4</th>\n",
       "      <td>SCOPUS_ID:85034053217</td>\n",
       "      <td>In this paper a new hybrid method combining va...</td>\n",
       "      <td>Naik J.</td>\n",
       "      <td>2018-04-01</td>\n",
       "      <td>Short term wind power forecasting using hybrid...</td>\n",
       "    </tr>\n",
       "    <tr>\n",
       "      <th>...</th>\n",
       "      <td>...</td>\n",
       "      <td>...</td>\n",
       "      <td>...</td>\n",
       "      <td>...</td>\n",
       "      <td>...</td>\n",
       "    </tr>\n",
       "    <tr>\n",
       "      <th>1253</th>\n",
       "      <td>SCOPUS_ID:84978641606</td>\n",
       "      <td>(not available)</td>\n",
       "      <td>Pedraza L.</td>\n",
       "      <td>2016-07-01</td>\n",
       "      <td>Evaluation of nonlinear forecasts for radioele...</td>\n",
       "    </tr>\n",
       "    <tr>\n",
       "      <th>1254</th>\n",
       "      <td>SCOPUS_ID:84978903927</td>\n",
       "      <td>(not available)</td>\n",
       "      <td>Bogaraj T.</td>\n",
       "      <td>2016-07-01</td>\n",
       "      <td>Intelligent energy management control for inde...</td>\n",
       "    </tr>\n",
       "    <tr>\n",
       "      <th>1255</th>\n",
       "      <td>SCOPUS_ID:84961115864</td>\n",
       "      <td>The progressive application of Information and...</td>\n",
       "      <td>Gamarra C.</td>\n",
       "      <td>2016-07-01</td>\n",
       "      <td>A knowledge discovery in databases approach fo...</td>\n",
       "    </tr>\n",
       "    <tr>\n",
       "      <th>1256</th>\n",
       "      <td>SCOPUS_ID:84976330384</td>\n",
       "      <td>(not available)</td>\n",
       "      <td>Afilal M.</td>\n",
       "      <td>2016-07-01</td>\n",
       "      <td>Forecasting the Emergency Department Patients ...</td>\n",
       "    </tr>\n",
       "    <tr>\n",
       "      <th>1257</th>\n",
       "      <td>SCOPUS_ID:84929121341</td>\n",
       "      <td>(not available)</td>\n",
       "      <td>Shamshirband S.</td>\n",
       "      <td>2016-07-01</td>\n",
       "      <td>A hybrid SVM-FFA method for prediction of mont...</td>\n",
       "    </tr>\n",
       "  </tbody>\n",
       "</table>\n",
       "<p>1258 rows × 5 columns</p>\n",
       "</div>"
      ],
      "text/plain": [
       "                  Scopus_ID  \\\n",
       "0     SCOPUS_ID:85035128299   \n",
       "1     SCOPUS_ID:85038847134   \n",
       "2     SCOPUS_ID:85036467319   \n",
       "3     SCOPUS_ID:85038816447   \n",
       "4     SCOPUS_ID:85034053217   \n",
       "...                     ...   \n",
       "1253  SCOPUS_ID:84978641606   \n",
       "1254  SCOPUS_ID:84978903927   \n",
       "1255  SCOPUS_ID:84961115864   \n",
       "1256  SCOPUS_ID:84976330384   \n",
       "1257  SCOPUS_ID:84929121341   \n",
       "\n",
       "                                               abstract           author  \\\n",
       "0     This study develops a stochastic approach to t...           Lee M.   \n",
       "1                                       (not available)       Sevlian R.   \n",
       "2     Cloud computing has drastically transformed th...         Kumar J.   \n",
       "3     Online reviews have been extensively studied i...            Ma Y.   \n",
       "4     In this paper a new hybrid method combining va...          Naik J.   \n",
       "...                                                 ...              ...   \n",
       "1253                                    (not available)       Pedraza L.   \n",
       "1254                                    (not available)       Bogaraj T.   \n",
       "1255  The progressive application of Information and...       Gamarra C.   \n",
       "1256                                    (not available)        Afilal M.   \n",
       "1257                                    (not available)  Shamshirband S.   \n",
       "\n",
       "         pubDate                                              title  \n",
       "0     2018-06-01  Modeling and forecasting hotel room demand bas...  \n",
       "1     2018-06-01  A scaling law for short term load forecasting ...  \n",
       "2     2018-04-01  Workload prediction in cloud using artificial ...  \n",
       "3     2018-04-01  Effects of user-provided photos on hotel revie...  \n",
       "4     2018-04-01  Short term wind power forecasting using hybrid...  \n",
       "...          ...                                                ...  \n",
       "1253  2016-07-01  Evaluation of nonlinear forecasts for radioele...  \n",
       "1254  2016-07-01  Intelligent energy management control for inde...  \n",
       "1255  2016-07-01  A knowledge discovery in databases approach fo...  \n",
       "1256  2016-07-01  Forecasting the Emergency Department Patients ...  \n",
       "1257  2016-07-01  A hybrid SVM-FFA method for prediction of mont...  \n",
       "\n",
       "[1258 rows x 5 columns]"
      ]
     },
     "execution_count": 4,
     "metadata": {},
     "output_type": "execute_result"
    }
   ],
   "source": [
    "article_set"
   ]
  },
  {
   "cell_type": "code",
   "execution_count": null,
   "metadata": {},
   "outputs": [],
   "source": []
  },
  {
   "cell_type": "code",
   "execution_count": null,
   "metadata": {},
   "outputs": [],
   "source": []
  },
  {
   "cell_type": "code",
   "execution_count": null,
   "metadata": {},
   "outputs": [],
   "source": []
  },
  {
   "cell_type": "code",
   "execution_count": null,
   "metadata": {},
   "outputs": [],
   "source": []
  },
  {
   "cell_type": "code",
   "execution_count": null,
   "metadata": {},
   "outputs": [],
   "source": []
  },
  {
   "cell_type": "code",
   "execution_count": null,
   "metadata": {},
   "outputs": [],
   "source": []
  },
  {
   "cell_type": "code",
   "execution_count": null,
   "metadata": {},
   "outputs": [],
   "source": []
  },
  {
   "cell_type": "code",
   "execution_count": null,
   "metadata": {},
   "outputs": [],
   "source": []
  },
  {
   "cell_type": "code",
   "execution_count": null,
   "metadata": {},
   "outputs": [],
   "source": []
  },
  {
   "cell_type": "code",
   "execution_count": null,
   "metadata": {},
   "outputs": [],
   "source": []
  },
  {
   "cell_type": "code",
   "execution_count": null,
   "metadata": {},
   "outputs": [],
   "source": []
  }
 ],
 "metadata": {
  "kernelspec": {
   "display_name": "Python 3",
   "language": "python",
   "name": "python3"
  },
  "language_info": {
   "codemirror_mode": {
    "name": "ipython",
    "version": 3
   },
   "file_extension": ".py",
   "mimetype": "text/x-python",
   "name": "python",
   "nbconvert_exporter": "python",
   "pygments_lexer": "ipython3",
   "version": "3.7.9"
  }
 },
 "nbformat": 4,
 "nbformat_minor": 2
}
